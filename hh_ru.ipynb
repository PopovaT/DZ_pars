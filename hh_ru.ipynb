{
  "nbformat": 4,
  "nbformat_minor": 0,
  "metadata": {
    "colab": {
      "provenance": [],
      "authorship_tag": "ABX9TyNUyLG99nGD3/IpnqAG4x/A",
      "include_colab_link": true
    },
    "kernelspec": {
      "name": "python3",
      "display_name": "Python 3"
    },
    "language_info": {
      "name": "python"
    }
  },
  "cells": [
    {
      "cell_type": "markdown",
      "metadata": {
        "id": "view-in-github",
        "colab_type": "text"
      },
      "source": [
        "<a href=\"https://colab.research.google.com/github/PopovaT/DZ_pars/blob/lesson_3/hh_ru.ipynb\" target=\"_parent\"><img src=\"https://colab.research.google.com/assets/colab-badge.svg\" alt=\"Open In Colab\"/></a>"
      ]
    },
    {
      "cell_type": "code",
      "execution_count": null,
      "metadata": {
        "id": "6yjWnehdnHjv"
      },
      "outputs": [],
      "source": [
        "from bs4 import BeautifulSoup as bs\n",
        "import requests\n",
        "import json\n",
        "import re\n",
        "from pprint import pprint\n",
        "import time\n",
        "import pandas as pd\n",
        "import numpy as np"
      ]
    },
    {
      "cell_type": "code",
      "source": [
        "headers = {'User-agent': 'Mozilla/5.0 (Windows NT 10.0; Win64; x64) AppleWebKit/537.36 (KHTML, like Gecko) Chrome/110.0.0.0 Safari/537.36 Edg/110.0.1587.46'}"
      ],
      "metadata": {
        "id": "7qzi6dnroANu"
      },
      "execution_count": null,
      "outputs": []
    },
    {
      "cell_type": "code",
      "source": [
        "def hh_pars(url, search_str, n_pages):\n",
        "    response = requests.get(url+'/search/vacancy?text=' + search_str + '&salary=&ored_clusters=true' + '&page=', headers=headers).text\n",
        "    dom = bs(response, 'lxml')\n",
        "    vacancies = []\n",
        "    n_pages = 20\n",
        "    for i in range(n_pages):\n",
        "      vacancies_blok = dom.find('div', {'class': 'vacancy-serp-content'})\n",
        "      vacancies_list = vacancies_blok.findChildren(recursive=False)\n",
        "      for vacancy in vacancies_list:\n",
        "        vacancy_data = {}\n",
        "        req=vacancy.find('span',{'class':'g-user-content'})\n",
        "        if req!=None:\n",
        "           main_info = req.findChild()\n",
        "           vacancy_name = main_info.getText()\n",
        "           vacancy_link = main_info['href']\n",
        "           salary = vacancy.find('div',{'class':'vacancy-serp-item__compensation'})\n",
        "           if not salary:\n",
        "              salary_min=0\n",
        "              salary_max=0\n",
        "           else:\n",
        "              salary=salary.getText().replace(u'\\xa0', u' ')\n",
        "              salaries=salary.split('-')\n",
        "              salary_min=salaries[0]\n",
        "              if len(salaries)>1:\n",
        "                  salary_max=salaries[1]\n",
        "              else:\n",
        "                  salary_max=''\n",
        "              vacancy_data['name'] = vacancy_name\n",
        "              vacancy_data['salary_min'] = salary_min\n",
        "              vacancy_data['salary_max'] = salary_max\n",
        "              vacancy_data['link'] = vacancy_link\n",
        "              vacancy_data['site'] = url\n",
        "              vacancies.append(vacancy_data)\n",
        "              time.sleep(1)\n",
        "              next_btn_block = dom.find('a',{'class':'bloko-button HH-Pager-Controls-Next HH-Pager-Control'})\n",
        "              next_btn_link = next_btn_block['href']\n",
        "              response = requests.get(url + next_btn_link, headers=headers).text\n",
        "              dom = bs(response,'lxml')\n",
        "      return vacancies\n",
        "      pprint(vacancies)\n",
        "\"\"\"# HH.RU\"\"\"\n",
        "\n",
        "hunt = hh_pars('https://hh.ru','python', 20)\n",
        "\n",
        "print(hunt)\n",
        "\n",
        "# with open('hunter.json','w') as f:\n",
        "#    json.dump(hunt.json(), f)\n",
        "# pd.read_json('hunter.json')"
      ],
      "metadata": {
        "colab": {
          "base_uri": "https://localhost:8080/"
        },
        "id": "fzqheNckvGlJ",
        "outputId": "2bbccf96-e74f-4a91-8b8c-7d2ff4945d54"
      },
      "execution_count": null,
      "outputs": [
        {
          "output_type": "stream",
          "name": "stdout",
          "text": [
            "[]\n"
          ]
        }
      ]
    }
  ]
}