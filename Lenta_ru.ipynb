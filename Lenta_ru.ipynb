{
  "nbformat": 4,
  "nbformat_minor": 0,
  "metadata": {
    "colab": {
      "provenance": [],
      "authorship_tag": "ABX9TyNhUvuA5idvZBi9zcsp2UC/",
      "include_colab_link": true
    },
    "kernelspec": {
      "name": "python3",
      "display_name": "Python 3"
    },
    "language_info": {
      "name": "python"
    }
  },
  "cells": [
    {
      "cell_type": "markdown",
      "metadata": {
        "id": "view-in-github",
        "colab_type": "text"
      },
      "source": [
        "<a href=\"https://colab.research.google.com/github/PopovaT/DZ_pars/blob/lesson_2/Lenta_ru.ipynb\" target=\"_parent\"><img src=\"https://colab.research.google.com/assets/colab-badge.svg\" alt=\"Open In Colab\"/></a>"
      ]
    },
    {
      "cell_type": "code",
      "execution_count": null,
      "metadata": {
        "id": "Pr0ypgYPOtIM"
      },
      "outputs": [],
      "source": [
        "# библиотеки\n",
        "import requests\n",
        "from lxml import html\n",
        "from pprint import pprint"
      ]
    },
    {
      "cell_type": "code",
      "source": [
        "# запрос \n",
        "url = 'https://lenta.ru'\n",
        "headers = {'User-Agent':\n",
        "\t'Mozilla/5.0 (Windows NT 10.0; Win64; x64; rv:109.0) Gecko/20100101 Firefox/110.0'}\n",
        "news_list = []\n",
        "response = requests.get(url, headers=headers)\n",
        "dom = html.fromstring(response.text)\n",
        "news_elements = dom.xpath(\"//div[@class='topnews']/div\")\n",
        "for element in news_elements:\n",
        "  news = {\n",
        "      'title': element.xpath(\"./a/div/span[@class='card-mini__title']/text()\")[0],\n",
        "      'url': url + element.xpath(\"./a/@href\")[0],\n",
        "      'date': element.xpath(\"./a/div/div/time[@class='card-mini__date']/text()\")[0],\n",
        "      'source': 'Lenta_ru'\n",
        "  }\n",
        "  news_list.append(news)\n",
        "\n",
        "news_list"
      ],
      "metadata": {
        "colab": {
          "base_uri": "https://localhost:8080/"
        },
        "id": "1hP2HG7RSlWg",
        "outputId": "da258409-4e95-46fd-99a0-778674c0cb84"
      },
      "execution_count": null,
      "outputs": [
        {
          "output_type": "execute_result",
          "data": {
            "text/plain": [
              "[{'title': 'В России пройдет крупнейший развлекательный фестиваль',\n",
              "  'url': 'https://lenta.ru/news/2023/02/17/vkfest/',\n",
              "  'date': '18:38',\n",
              "  'source': 'Lenta_ru'},\n",
              " {'title': 'Россиянам рассказали о вреде обуви с узким мысом',\n",
              "  'url': 'https://lenta.ru/news/2023/02/17/high_heels/',\n",
              "  'date': '18:35',\n",
              "  'source': 'Lenta_ru'},\n",
              " {'title': 'Пенсионер из Подмосковья насмерть замерз в кресле автомобиля',\n",
              "  'url': 'https://lenta.ru/news/2023/02/17/zamerz/',\n",
              "  'date': '18:31',\n",
              "  'source': 'Lenta_ru'}]"
            ]
          },
          "metadata": {},
          "execution_count": 93
        }
      ]
    }
  ]
}